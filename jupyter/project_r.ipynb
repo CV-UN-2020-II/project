{
 "cells": [
  {
   "cell_type": "markdown",
   "metadata": {},
   "source": [
    "# Propuesta proyecto\n",
    "\n",
    "- Andrés Fernando Román Arévalo \n",
    "- Albert Yarid Pérez Cárdenas \n",
    "- Guiselle Tatiana Zambrano Penagos \n",
    "\n",
    "**Contexto:** Las competencias deportivas cada día recogen una gran cantidad de datos relacionados con el desempeño de sus equipos y jugadores para encontrar patrones en estos datos y tomar decisiones informadas basadas en ellos. De esta manera la competencia aumenta tanto dentro como fuera de la cancha\n",
    "\n",
    "**Problema de negocio:** Se tienen los datos de desempeño de los equipos de baloncesto del torneo NCAA March Madness que contiene las estadísticas de juego de 353 equipos de la liga. El objetivo es inspeccionar esta data utilizando técnicas de visualización y agrupación para encontrar patrones en el desempeño de los equipos y generar recomendaciones de umbrales en las estadísticas para que un equipo esté en el grupo de desempeño superior."
   ]
  },
  {
   "cell_type": "code",
   "execution_count": 1,
   "metadata": {},
   "outputs": [],
   "source": [
    "# ruta directorio\n",
    "#setwd('C:/Users/Juliana/Desktop/Diplomado/D_2020/Casos/Casos/Clustering/R')\n",
    "setwd('/root/project/jupyter/data')"
   ]
  },
  {
   "cell_type": "code",
   "execution_count": 2,
   "metadata": {},
   "outputs": [
    {
     "data": {
      "text/html": [
       "<style>\n",
       ".list-inline {list-style: none; margin:0; padding: 0}\n",
       ".list-inline>li {display: inline-block}\n",
       ".list-inline>li:not(:last-child)::after {content: \"\\00b7\"; padding: 0 .5ex}\n",
       "</style>\n",
       "<ol class=list-inline><li>'TEAM'</li><li>'CONF'</li><li>'G'</li><li>'W'</li><li>'ADJOE'</li><li>'ADJDE'</li><li>'BARTHAG'</li><li>'EFG_O'</li><li>'EFG_D'</li><li>'TOR'</li><li>'TORD'</li><li>'ORB'</li><li>'DRB'</li><li>'FTR'</li><li>'FTRD'</li><li>'X2P_O'</li><li>'X2P_D'</li><li>'X3P_O'</li><li>'X3P_D'</li><li>'ADJ_T'</li><li>'WAB'</li><li>'POSTSEASON'</li><li>'SEED'</li></ol>\n"
      ],
      "text/latex": [
       "\\begin{enumerate*}\n",
       "\\item 'TEAM'\n",
       "\\item 'CONF'\n",
       "\\item 'G'\n",
       "\\item 'W'\n",
       "\\item 'ADJOE'\n",
       "\\item 'ADJDE'\n",
       "\\item 'BARTHAG'\n",
       "\\item 'EFG\\_O'\n",
       "\\item 'EFG\\_D'\n",
       "\\item 'TOR'\n",
       "\\item 'TORD'\n",
       "\\item 'ORB'\n",
       "\\item 'DRB'\n",
       "\\item 'FTR'\n",
       "\\item 'FTRD'\n",
       "\\item 'X2P\\_O'\n",
       "\\item 'X2P\\_D'\n",
       "\\item 'X3P\\_O'\n",
       "\\item 'X3P\\_D'\n",
       "\\item 'ADJ\\_T'\n",
       "\\item 'WAB'\n",
       "\\item 'POSTSEASON'\n",
       "\\item 'SEED'\n",
       "\\end{enumerate*}\n"
      ],
      "text/markdown": [
       "1. 'TEAM'\n",
       "2. 'CONF'\n",
       "3. 'G'\n",
       "4. 'W'\n",
       "5. 'ADJOE'\n",
       "6. 'ADJDE'\n",
       "7. 'BARTHAG'\n",
       "8. 'EFG_O'\n",
       "9. 'EFG_D'\n",
       "10. 'TOR'\n",
       "11. 'TORD'\n",
       "12. 'ORB'\n",
       "13. 'DRB'\n",
       "14. 'FTR'\n",
       "15. 'FTRD'\n",
       "16. 'X2P_O'\n",
       "17. 'X2P_D'\n",
       "18. 'X3P_O'\n",
       "19. 'X3P_D'\n",
       "20. 'ADJ_T'\n",
       "21. 'WAB'\n",
       "22. 'POSTSEASON'\n",
       "23. 'SEED'\n",
       "\n",
       "\n"
      ],
      "text/plain": [
       " [1] \"TEAM\"       \"CONF\"       \"G\"          \"W\"          \"ADJOE\"     \n",
       " [6] \"ADJDE\"      \"BARTHAG\"    \"EFG_O\"      \"EFG_D\"      \"TOR\"       \n",
       "[11] \"TORD\"       \"ORB\"        \"DRB\"        \"FTR\"        \"FTRD\"      \n",
       "[16] \"X2P_O\"      \"X2P_D\"      \"X3P_O\"      \"X3P_D\"      \"ADJ_T\"     \n",
       "[21] \"WAB\"        \"POSTSEASON\" \"SEED\"      "
      ]
     },
     "metadata": {},
     "output_type": "display_data"
    },
    {
     "data": {
      "text/html": [
       "<table>\n",
       "<caption>A data.frame: 6 × 23</caption>\n",
       "<thead>\n",
       "\t<tr><th></th><th scope=col>TEAM</th><th scope=col>CONF</th><th scope=col>G</th><th scope=col>W</th><th scope=col>ADJOE</th><th scope=col>ADJDE</th><th scope=col>BARTHAG</th><th scope=col>EFG_O</th><th scope=col>EFG_D</th><th scope=col>TOR</th><th scope=col>⋯</th><th scope=col>FTR</th><th scope=col>FTRD</th><th scope=col>X2P_O</th><th scope=col>X2P_D</th><th scope=col>X3P_O</th><th scope=col>X3P_D</th><th scope=col>ADJ_T</th><th scope=col>WAB</th><th scope=col>POSTSEASON</th><th scope=col>SEED</th></tr>\n",
       "\t<tr><th></th><th scope=col>&lt;fct&gt;</th><th scope=col>&lt;fct&gt;</th><th scope=col>&lt;int&gt;</th><th scope=col>&lt;int&gt;</th><th scope=col>&lt;dbl&gt;</th><th scope=col>&lt;dbl&gt;</th><th scope=col>&lt;dbl&gt;</th><th scope=col>&lt;dbl&gt;</th><th scope=col>&lt;dbl&gt;</th><th scope=col>&lt;dbl&gt;</th><th scope=col>⋯</th><th scope=col>&lt;dbl&gt;</th><th scope=col>&lt;dbl&gt;</th><th scope=col>&lt;dbl&gt;</th><th scope=col>&lt;dbl&gt;</th><th scope=col>&lt;dbl&gt;</th><th scope=col>&lt;dbl&gt;</th><th scope=col>&lt;dbl&gt;</th><th scope=col>&lt;dbl&gt;</th><th scope=col>&lt;fct&gt;</th><th scope=col>&lt;int&gt;</th></tr>\n",
       "</thead>\n",
       "<tbody>\n",
       "\t<tr><th scope=row>1</th><td>Gonzaga       </td><td>WCC</td><td>37</td><td>33</td><td>123.4</td><td>89.9</td><td>0.9744</td><td>59.0</td><td>44.2</td><td>14.9</td><td>⋯</td><td>35.3</td><td>25.9</td><td>61.4</td><td>43.4</td><td>36.3</td><td>30.4</td><td>72.0</td><td> 7.0</td><td>E8       </td><td>1</td></tr>\n",
       "\t<tr><th scope=row>2</th><td>Virginia      </td><td>ACC</td><td>38</td><td>35</td><td>123.0</td><td>89.9</td><td>0.9736</td><td>55.2</td><td>44.7</td><td>14.7</td><td>⋯</td><td>29.1</td><td>26.3</td><td>52.5</td><td>45.7</td><td>39.5</td><td>28.9</td><td>60.7</td><td>11.1</td><td>Champions</td><td>1</td></tr>\n",
       "\t<tr><th scope=row>3</th><td>Duke          </td><td>ACC</td><td>38</td><td>32</td><td>118.9</td><td>89.2</td><td>0.9646</td><td>53.6</td><td>45.0</td><td>17.5</td><td>⋯</td><td>33.2</td><td>24.0</td><td>58.0</td><td>45.0</td><td>30.8</td><td>29.9</td><td>73.6</td><td>11.2</td><td>E8       </td><td>1</td></tr>\n",
       "\t<tr><th scope=row>4</th><td>North Carolina</td><td>ACC</td><td>36</td><td>29</td><td>120.1</td><td>91.4</td><td>0.9582</td><td>52.9</td><td>48.9</td><td>17.2</td><td>⋯</td><td>30.2</td><td>28.4</td><td>52.1</td><td>47.9</td><td>36.2</td><td>33.5</td><td>76.0</td><td>10.0</td><td>S16      </td><td>1</td></tr>\n",
       "\t<tr><th scope=row>5</th><td>Michigan      </td><td>B10</td><td>37</td><td>30</td><td>114.6</td><td>85.6</td><td>0.9665</td><td>51.6</td><td>44.1</td><td>13.9</td><td>⋯</td><td>27.5</td><td>24.1</td><td>51.8</td><td>44.3</td><td>34.2</td><td>29.1</td><td>65.9</td><td> 9.2</td><td>S16      </td><td>2</td></tr>\n",
       "\t<tr><th scope=row>6</th><td>Michigan St.  </td><td>B10</td><td>39</td><td>32</td><td>119.9</td><td>91.0</td><td>0.9597</td><td>55.2</td><td>43.9</td><td>18.5</td><td>⋯</td><td>33.6</td><td>27.5</td><td>54.3</td><td>41.9</td><td>37.8</td><td>31.6</td><td>68.6</td><td>10.7</td><td>F4       </td><td>2</td></tr>\n",
       "</tbody>\n",
       "</table>\n"
      ],
      "text/latex": [
       "A data.frame: 6 × 23\n",
       "\\begin{tabular}{r|lllllllllllllllllllll}\n",
       "  & TEAM & CONF & G & W & ADJOE & ADJDE & BARTHAG & EFG\\_O & EFG\\_D & TOR & ⋯ & FTR & FTRD & X2P\\_O & X2P\\_D & X3P\\_O & X3P\\_D & ADJ\\_T & WAB & POSTSEASON & SEED\\\\\n",
       "  & <fct> & <fct> & <int> & <int> & <dbl> & <dbl> & <dbl> & <dbl> & <dbl> & <dbl> & ⋯ & <dbl> & <dbl> & <dbl> & <dbl> & <dbl> & <dbl> & <dbl> & <dbl> & <fct> & <int>\\\\\n",
       "\\hline\n",
       "\t1 & Gonzaga        & WCC & 37 & 33 & 123.4 & 89.9 & 0.9744 & 59.0 & 44.2 & 14.9 & ⋯ & 35.3 & 25.9 & 61.4 & 43.4 & 36.3 & 30.4 & 72.0 &  7.0 & E8        & 1\\\\\n",
       "\t2 & Virginia       & ACC & 38 & 35 & 123.0 & 89.9 & 0.9736 & 55.2 & 44.7 & 14.7 & ⋯ & 29.1 & 26.3 & 52.5 & 45.7 & 39.5 & 28.9 & 60.7 & 11.1 & Champions & 1\\\\\n",
       "\t3 & Duke           & ACC & 38 & 32 & 118.9 & 89.2 & 0.9646 & 53.6 & 45.0 & 17.5 & ⋯ & 33.2 & 24.0 & 58.0 & 45.0 & 30.8 & 29.9 & 73.6 & 11.2 & E8        & 1\\\\\n",
       "\t4 & North Carolina & ACC & 36 & 29 & 120.1 & 91.4 & 0.9582 & 52.9 & 48.9 & 17.2 & ⋯ & 30.2 & 28.4 & 52.1 & 47.9 & 36.2 & 33.5 & 76.0 & 10.0 & S16       & 1\\\\\n",
       "\t5 & Michigan       & B10 & 37 & 30 & 114.6 & 85.6 & 0.9665 & 51.6 & 44.1 & 13.9 & ⋯ & 27.5 & 24.1 & 51.8 & 44.3 & 34.2 & 29.1 & 65.9 &  9.2 & S16       & 2\\\\\n",
       "\t6 & Michigan St.   & B10 & 39 & 32 & 119.9 & 91.0 & 0.9597 & 55.2 & 43.9 & 18.5 & ⋯ & 33.6 & 27.5 & 54.3 & 41.9 & 37.8 & 31.6 & 68.6 & 10.7 & F4        & 2\\\\\n",
       "\\end{tabular}\n"
      ],
      "text/markdown": [
       "\n",
       "A data.frame: 6 × 23\n",
       "\n",
       "| <!--/--> | TEAM &lt;fct&gt; | CONF &lt;fct&gt; | G &lt;int&gt; | W &lt;int&gt; | ADJOE &lt;dbl&gt; | ADJDE &lt;dbl&gt; | BARTHAG &lt;dbl&gt; | EFG_O &lt;dbl&gt; | EFG_D &lt;dbl&gt; | TOR &lt;dbl&gt; | ⋯ ⋯ | FTR &lt;dbl&gt; | FTRD &lt;dbl&gt; | X2P_O &lt;dbl&gt; | X2P_D &lt;dbl&gt; | X3P_O &lt;dbl&gt; | X3P_D &lt;dbl&gt; | ADJ_T &lt;dbl&gt; | WAB &lt;dbl&gt; | POSTSEASON &lt;fct&gt; | SEED &lt;int&gt; |\n",
       "|---|---|---|---|---|---|---|---|---|---|---|---|---|---|---|---|---|---|---|---|---|---|\n",
       "| 1 | Gonzaga        | WCC | 37 | 33 | 123.4 | 89.9 | 0.9744 | 59.0 | 44.2 | 14.9 | ⋯ | 35.3 | 25.9 | 61.4 | 43.4 | 36.3 | 30.4 | 72.0 |  7.0 | E8        | 1 |\n",
       "| 2 | Virginia       | ACC | 38 | 35 | 123.0 | 89.9 | 0.9736 | 55.2 | 44.7 | 14.7 | ⋯ | 29.1 | 26.3 | 52.5 | 45.7 | 39.5 | 28.9 | 60.7 | 11.1 | Champions | 1 |\n",
       "| 3 | Duke           | ACC | 38 | 32 | 118.9 | 89.2 | 0.9646 | 53.6 | 45.0 | 17.5 | ⋯ | 33.2 | 24.0 | 58.0 | 45.0 | 30.8 | 29.9 | 73.6 | 11.2 | E8        | 1 |\n",
       "| 4 | North Carolina | ACC | 36 | 29 | 120.1 | 91.4 | 0.9582 | 52.9 | 48.9 | 17.2 | ⋯ | 30.2 | 28.4 | 52.1 | 47.9 | 36.2 | 33.5 | 76.0 | 10.0 | S16       | 1 |\n",
       "| 5 | Michigan       | B10 | 37 | 30 | 114.6 | 85.6 | 0.9665 | 51.6 | 44.1 | 13.9 | ⋯ | 27.5 | 24.1 | 51.8 | 44.3 | 34.2 | 29.1 | 65.9 |  9.2 | S16       | 2 |\n",
       "| 6 | Michigan St.   | B10 | 39 | 32 | 119.9 | 91.0 | 0.9597 | 55.2 | 43.9 | 18.5 | ⋯ | 33.6 | 27.5 | 54.3 | 41.9 | 37.8 | 31.6 | 68.6 | 10.7 | F4        | 2 |\n",
       "\n"
      ],
      "text/plain": [
       "  TEAM           CONF G  W  ADJOE ADJDE BARTHAG EFG_O EFG_D TOR  ⋯ FTR  FTRD\n",
       "1 Gonzaga        WCC  37 33 123.4 89.9  0.9744  59.0  44.2  14.9 ⋯ 35.3 25.9\n",
       "2 Virginia       ACC  38 35 123.0 89.9  0.9736  55.2  44.7  14.7 ⋯ 29.1 26.3\n",
       "3 Duke           ACC  38 32 118.9 89.2  0.9646  53.6  45.0  17.5 ⋯ 33.2 24.0\n",
       "4 North Carolina ACC  36 29 120.1 91.4  0.9582  52.9  48.9  17.2 ⋯ 30.2 28.4\n",
       "5 Michigan       B10  37 30 114.6 85.6  0.9665  51.6  44.1  13.9 ⋯ 27.5 24.1\n",
       "6 Michigan St.   B10  39 32 119.9 91.0  0.9597  55.2  43.9  18.5 ⋯ 33.6 27.5\n",
       "  X2P_O X2P_D X3P_O X3P_D ADJ_T WAB  POSTSEASON SEED\n",
       "1 61.4  43.4  36.3  30.4  72.0   7.0 E8         1   \n",
       "2 52.5  45.7  39.5  28.9  60.7  11.1 Champions  1   \n",
       "3 58.0  45.0  30.8  29.9  73.6  11.2 E8         1   \n",
       "4 52.1  47.9  36.2  33.5  76.0  10.0 S16        1   \n",
       "5 51.8  44.3  34.2  29.1  65.9   9.2 S16        2   \n",
       "6 54.3  41.9  37.8  31.6  68.6  10.7 F4         2   "
      ]
     },
     "metadata": {},
     "output_type": "display_data"
    }
   ],
   "source": [
    "## Cargue de datos\n",
    "datos <- read.csv('basketball_19.csv',header=T)\n",
    "## nombres de las columnas \n",
    "names(datos)\n",
    "head(datos)"
   ]
  },
  {
   "cell_type": "markdown",
   "metadata": {},
   "source": [
    "## Datos\n",
    "\n",
    "Estas son las variables que contiene el conjunto de datos \n",
    "\n",
    "- **TEAM:** Equipo\n",
    "- **CONF:** La conferencia en la que el equipo participa(A10 = Atlantic 10, ACC = Atlantic Coast Conference, AE = America East, Amer = American, ASun = ASUN, B10 = Big Ten, B12 = Big 12, BE = Big East, BSky = Big Sky, BSth = Big South, BW = Big West, CAA = Colonial Athletic Association, CUSA = Conference USA, Horz = Horizon League, Ivy = Ivy League, MAAC = Metro Atlantic Athletic Conference, MAC = Mid-American Conference, MEAC = Mid-Eastern Athletic Conference, MVC = Missouri Valley Conference, MWC = Mountain West, NEC = Northeast Conference, OVC = Ohio Valley Conference, P12 = Pac-12, Pat = Patriot League, SB = Sun Belt, SC = Southern Conference, SEC = South Eastern Conference, Slnd = Southland Conference, Sum = Summit League, SWAC = Southwestern Athletic Conference, WAC = Western Athletic Conference, WCC = West Coast Conference)\n",
    "- **G:** Número de partidos jugados\n",
    "- **W:** Número de partidos ganados\n",
    "- **ADJOE:** Estimación de eficiencia ofensiva, puntos anotados por cada 100 posesiones\n",
    "- **ADJDE:** Estimación de eficiencia defensiva, puntos permitidos por cada 100 posesiones del equipo contrario\n",
    "- **BARTHAG:** Probabilidad de vencer a un equipo\n",
    "- **EFG_O:** Effective Field Goal Percentage Shot\n",
    "- **EFG_D:** Effective Field Goal Percentage Allowed\n",
    "- **TOR:** Porcentaje de rotación permitida (equipo pierde la posesión del balón contra el equipo contrario antes de que un jugador dispare a la canasta de su equipo)\n",
    "- **TORD:** Porcentaje de rotación hecha al equipo contrario (se roba la pelota al contrincante)\n",
    "- **ORB:** Porcentaje de rebote ofensivo\n",
    "- **B:** Porcentaje de rebote defensivo\n",
    "- **FTR:** Tasa de tiros libres hechos(que hace el equipo)\n",
    "- **FTRD:** Tasa de tiros libres permitidos (que hace el contrincante)\n",
    "- **2P_O:** Porcentaje de tiros de 2 puntos hechos\n",
    "- **2P_D:** Porcentaje de tiros de 2 puntos permitidos\n",
    "- **3P_O:** Porcentaje de tiros de 3 puntos hechos\n",
    "- **3P_D:** Porcentaje de tiros de 3 puntos permitidos\n",
    "- **ADJ_T:** Posesión del balón por 40 min\n",
    "- **WAB:** Triunfos por encima de la 'burbuja' (la burbuja es el límite definido para pasar al campeonato NCAA March Madness Tournament\n",
    "- **POSTSEASON:** Ronda en la que el equipo de fue eliminado (R68 = First Four, R64 = Round of 64, R32 = Round of 32, S16 = Sweet Sixteen, E8 = Elite Eight, F4 = Final Four, 2ND = Runner-up, Champion = Winner of the NCAA March Madness Tournament for that given year)\n",
    "- **SEED:**Semilla definida por el torneo\n",
    "\n",
    "## Exploración de los datos \n",
    "\n",
    "Para empezar el análisis hay que hacer una exploración inicial de los datos, entender un poco las variables y la información que tenemos. Para empezar nuestros datos consisten en las estadísticas de 353 equipos contenidas en 24 variables"
   ]
  },
  {
   "cell_type": "code",
   "execution_count": 3,
   "metadata": {},
   "outputs": [
    {
     "data": {
      "text/html": [
       "23"
      ],
      "text/latex": [
       "23"
      ],
      "text/markdown": [
       "23"
      ],
      "text/plain": [
       "[1] 23"
      ]
     },
     "metadata": {},
     "output_type": "display_data"
    },
    {
     "data": {
      "text/html": [
       "353"
      ],
      "text/latex": [
       "353"
      ],
      "text/markdown": [
       "353"
      ],
      "text/plain": [
       "[1] 353"
      ]
     },
     "metadata": {},
     "output_type": "display_data"
    }
   ],
   "source": [
    "## dimension de los datos\n",
    "ncol(datos)\n",
    "nrow(datos)"
   ]
  },
  {
   "cell_type": "code",
   "execution_count": 4,
   "metadata": {},
   "outputs": [
    {
     "data": {
      "text/plain": [
       "                TEAM          CONF           G               W        \n",
       " Abilene Christian:  1   ACC    : 15   Min.   :26.00   Min.   : 3.00  \n",
       " Air Force        :  1   A10    : 14   1st Qu.:30.00   1st Qu.:12.00  \n",
       " Akron            :  1   B10    : 14   Median :31.00   Median :17.00  \n",
       " Alabama          :  1   CUSA   : 14   Mean   :31.75   Mean   :17.11  \n",
       " Alabama A&M      :  1   SEC    : 14   3rd Qu.:33.00   3rd Qu.:21.00  \n",
       " Alabama St.      :  1   Slnd   : 13   Max.   :39.00   Max.   :35.00  \n",
       " (Other)          :347   (Other):269                                  \n",
       "     ADJOE           ADJDE          BARTHAG           EFG_O     \n",
       " Min.   : 83.7   Min.   : 85.2   Min.   :0.0346   Min.   :40.0  \n",
       " 1st Qu.: 98.6   1st Qu.: 98.7   1st Qu.:0.2814   1st Qu.:48.8  \n",
       " Median :103.1   Median :104.0   Median :0.4762   Median :50.5  \n",
       " Mean   :103.3   Mean   :103.3   Mean   :0.4932   Mean   :50.6  \n",
       " 3rd Qu.:107.7   3rd Qu.:107.8   3rd Qu.:0.6893   3rd Qu.:52.8  \n",
       " Max.   :123.4   Max.   :119.2   Max.   :0.9744   Max.   :59.0  \n",
       "                                                                \n",
       "     EFG_D            TOR             TORD            ORB       \n",
       " Min.   :42.50   Min.   :13.50   Min.   :13.30   Min.   :15.90  \n",
       " 1st Qu.:48.90   1st Qu.:17.20   1st Qu.:17.10   1st Qu.:25.40  \n",
       " Median :50.90   Median :18.50   Median :18.30   Median :28.30  \n",
       " Mean   :50.77   Mean   :18.61   Mean   :18.52   Mean   :28.25  \n",
       " 3rd Qu.:52.60   3rd Qu.:19.80   3rd Qu.:19.80   3rd Qu.:31.00  \n",
       " Max.   :59.30   Max.   :25.10   Max.   :24.70   Max.   :38.70  \n",
       "                                                                \n",
       "      DRB             FTR             FTRD          X2P_O           X2P_D      \n",
       " Min.   :21.70   Min.   :21.90   Min.   :21.8   Min.   :37.70   Min.   :40.70  \n",
       " 1st Qu.:26.30   1st Qu.:29.90   1st Qu.:29.7   1st Qu.:47.70   1st Qu.:48.30  \n",
       " Median :28.30   Median :33.30   Median :32.7   Median :50.30   Median :50.20  \n",
       " Mean   :28.42   Mean   :32.95   Mean   :33.2   Mean   :50.06   Mean   :50.23  \n",
       " 3rd Qu.:30.40   3rd Qu.:35.90   3rd Qu.:36.4   3rd Qu.:52.20   3rd Qu.:52.20  \n",
       " Max.   :37.10   Max.   :48.10   Max.   :54.0   Max.   :61.40   Max.   :61.20  \n",
       "                                                                               \n",
       "     X3P_O           X3P_D           ADJ_T            WAB         \n",
       " Min.   :27.90   Min.   :27.90   Min.   :60.70   Min.   :-23.400  \n",
       " 1st Qu.:32.40   1st Qu.:32.90   1st Qu.:67.30   1st Qu.:-13.100  \n",
       " Median :34.20   Median :34.40   Median :69.00   Median : -8.600  \n",
       " Mean   :34.29   Mean   :34.42   Mean   :69.17   Mean   : -7.784  \n",
       " 3rd Qu.:36.00   3rd Qu.:35.90   3rd Qu.:70.80   3rd Qu.: -3.100  \n",
       " Max.   :42.40   Max.   :41.80   Max.   :79.10   Max.   : 11.200  \n",
       "                                                                  \n",
       "   POSTSEASON       SEED       \n",
       " R64    : 32   Min.   : 1.000  \n",
       " R32    : 16   1st Qu.: 5.000  \n",
       " S16    :  8   Median : 9.000  \n",
       " E8     :  4   Mean   : 8.794  \n",
       " R68    :  4   3rd Qu.:13.000  \n",
       " (Other):  4   Max.   :16.000  \n",
       " NA's   :285   NA's   :285     "
      ]
     },
     "metadata": {},
     "output_type": "display_data"
    }
   ],
   "source": [
    "## resumen de los datos\n",
    "summary(datos)"
   ]
  }
 ],
 "metadata": {
  "kernelspec": {
   "display_name": "R",
   "language": "R",
   "name": "ir"
  },
  "language_info": {
   "codemirror_mode": "r",
   "file_extension": ".r",
   "mimetype": "text/x-r-source",
   "name": "R",
   "pygments_lexer": "r",
   "version": "3.6.3"
  }
 },
 "nbformat": 4,
 "nbformat_minor": 4
}
